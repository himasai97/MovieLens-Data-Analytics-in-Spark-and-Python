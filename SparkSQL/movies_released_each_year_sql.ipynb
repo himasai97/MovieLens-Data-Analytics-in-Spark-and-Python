{
    "cells": [
        {
            "cell_type": "code",
            "execution_count": 1,
            "metadata": {},
            "outputs": [
                {
                    "name": "stdout",
                    "output_type": "stream",
                    "text": "Waiting for a Spark session to start...\nSpark Initialization Done! ApplicationId = app-20210210214214-0000\nKERNEL_ID = 42653e5d-008d-46e7-adec-ead05cdc06bc\n"
                }
            ],
            "source": "from pyspark import SparkContext, SparkConf\nfrom pyspark.sql import SQLContext, SparkSession\nfrom pyspark.sql.types import StructType, StructField, DoubleType, IntegerType, StringType\n\nfrom ibm_botocore.client import Config\nimport ibm_boto3\nimport os\nfrom pyspark.sql.functions import unix_timestamp, to_date\nimport pyspark.sql.functions as F\n\n\nimport numpy as np\nimport pandas as pd\nimport json\nimport pyspark.sql\nfrom pyspark.sql.functions import col, skewness, kurtosis\nfrom pyspark.sql.functions import isnan, when, count, col\nfrom pyspark.sql.functions import when\nfrom pyspark.sql.functions import UserDefinedFunction\nfrom pyspark.sql.types import StringType\nfrom datetime import date, timedelta, datetime\nimport time\n\nsc = SparkContext.getOrCreate(SparkConf().setMaster(\"local[*]\"))\nfrom pyspark.sql import SparkSession\nspark = SparkSession \\\n    .builder \\\n    .getOrCreate()"
        },
        {
            "cell_type": "markdown",
            "metadata": {},
            "source": "Hidden cells with credentials for accessing parquets from Cloud Object Storage"
        },
        {
            "cell_type": "code",
            "execution_count": 2,
            "metadata": {},
            "outputs": [],
            "source": "# The code was removed by Watson Studio for sharing."
        },
        {
            "cell_type": "code",
            "execution_count": 3,
            "metadata": {},
            "outputs": [],
            "source": "#cos = ibmos2spark.CloudObjectStorage(sc, credentials, configuration_name, 'bluemix_cos')\n\n#movies_df = spark.read.parquet(cos.url('moviesdataframe.parquet', <BUCKET-NAME>))\nmovies_df.createOrReplaceTempView(\"movies\")"
        },
        {
            "cell_type": "code",
            "execution_count": 4,
            "metadata": {},
            "outputs": [
                {
                    "name": "stdout",
                    "output_type": "stream",
                    "text": "+----+----------------+\n|Year|Number_of_Movies|\n+----+----------------+\n|1919|               3|\n|1920|               2|\n|1921|               1|\n|1922|               2|\n|1923|               3|\n|1925|               6|\n|1926|               8|\n|1927|               6|\n|1928|               3|\n|1929|               3|\n|1930|               7|\n|1931|               7|\n|1932|               7|\n|1933|               7|\n|1934|               7|\n|1935|               6|\n|1936|               8|\n|1937|              11|\n|1938|               6|\n|1939|              11|\n+----+----------------+\nonly showing top 20 rows\n\n"
                }
            ],
            "source": "result = spark.sql(\"\"\"\n            Select year as Year,COUNT(year) as Number_of_Movies\n            FROM movies \n            GROUP BY year\n            ORDER BY year ASC\n                   \"\"\").repartition(1)\n\nresult.show()\n"
        },
        {
            "cell_type": "code",
            "execution_count": 5,
            "metadata": {},
            "outputs": [
                {
                    "data": {
                        "text/html": "<a download=\"movies_each_year.csv\" href=\"data:text/csv;base64,WWVhcixOdW1iZXJfb2ZfTW92aWVzCjE5MTksMwoxOTIwLDIKMTkyMSwxCjE5MjIsMgoxOTIzLDMKMTkyNSw2CjE5MjYsOAoxOTI3LDYKMTkyOCwzCjE5MjksMwoxOTMwLDcKMTkzMSw3CjE5MzIsNwoxOTMzLDcKMTkzNCw3CjE5MzUsNgoxOTM2LDgKMTkzNywxMQoxOTM4LDYKMTkzOSwxMQoxOTQwLDE5CjE5NDEsMTEKMTk0MiwxMwoxOTQzLDEwCjE5NDQsMTMKMTk0NSwxMQoxOTQ2LDEzCjE5NDcsMTQKMTk0OCwxMgoxOTQ5LDEwCjE5NTAsMTQKMTk1MSwxMgoxOTUyLDExCjE5NTMsMTQKMTk1NCwxNQoxOTU1LDE5CjE5NTYsMTkKMTk1NywyMAoxOTU4LDIyCjE5NTksMjIKMTk2MCwxNQoxOTYxLDE5CjE5NjIsMjAKMTk2MywyNQoxOTY0LDE2CjE5NjUsMjAKMTk2NiwxMgoxOTY3LDI0CjE5NjgsMjIKMTk2OSwxOAoxOTcwLDE2CjE5NzEsMjYKMTk3MiwyMgoxOTczLDI5CjE5NzQsMjgKMTk3NSwyMQoxOTc2LDIxCjE5NzcsMjIKMTk3OCwzMAoxOTc5LDMyCjE5ODAsNDEKMTk4MSw0MwoxOTgyLDUwCjE5ODMsMzUKMTk4NCw2MAoxOTg1LDY1CjE5ODYsMTA0CjE5ODcsNzEKMTk4OCw2OQoxOTg5LDYwCjE5OTAsNzcKMTk5MSw2MAoxOTkyLDEwMgoxOTkzLDE2NQoxOTk0LDI1NwoxOTk1LDM0MgoxOTk2LDM0NQoxOTk3LDMxNQoxOTk4LDMzNwoxOTk5LDI4MwoyMDAwLDE1Ngo=\" target=\"_blank\">Download CSV file</a>",
                        "text/plain": "<IPython.core.display.HTML object>"
                    },
                    "execution_count": 5,
                    "metadata": {},
                    "output_type": "execute_result"
                }
            ],
            "source": "## To save it locally\nfrom IPython.display import HTML \nimport base64\n\n# function that takes in a dataframe and creates a text link to  \n# download it (will only work for files < 2MB or so)\ndef create_download_link(df, title = \"Download CSV file\", filename = \"result.csv\"):  \n    csv = df.to_csv(sep=',',header=True, index=False)\n    b64 = base64.b64encode(csv.encode())\n    payload = b64.decode()\n    html = '<a download=\"{filename}\" href=\"data:text/csv;base64,{payload}\" target=\"_blank\">{title}</a>'\n    html = html.format(payload=payload,title=title,filename=filename)\n    return HTML(html)\n\n\n# sparkDF to Pandas\nresult_df = result.toPandas()\ncreate_download_link(result_df,filename='movies_each_year.csv')"
        }
    ],
    "metadata": {
        "kernelspec": {
            "display_name": "Python 3.7 with Spark",
            "language": "python3",
            "name": "python37"
        },
        "language_info": {
            "codemirror_mode": {
                "name": "ipython",
                "version": 3
            },
            "file_extension": ".py",
            "mimetype": "text/x-python",
            "name": "python",
            "nbconvert_exporter": "python",
            "pygments_lexer": "ipython3",
            "version": "3.7.9"
        }
    },
    "nbformat": 4,
    "nbformat_minor": 1
}