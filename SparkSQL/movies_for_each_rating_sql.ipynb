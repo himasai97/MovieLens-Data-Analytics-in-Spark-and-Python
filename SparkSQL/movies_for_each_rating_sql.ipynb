{
    "cells": [
        {
            "cell_type": "code",
            "execution_count": 1,
            "metadata": {},
            "outputs": [
                {
                    "name": "stdout",
                    "output_type": "stream",
                    "text": "Waiting for a Spark session to start...\nSpark Initialization Done! ApplicationId = app-20210210213727-0000\nKERNEL_ID = a7dcacf9-e277-42da-99ae-cd4c2ca6bb0f\n"
                }
            ],
            "source": "from pyspark import SparkContext, SparkConf\nfrom pyspark.sql import SQLContext, SparkSession\nfrom pyspark.sql.types import StructType, StructField, DoubleType, IntegerType, StringType\n\nfrom ibm_botocore.client import Config\nimport ibm_boto3\nimport os\nfrom pyspark.sql.functions import unix_timestamp, to_date\nimport pyspark.sql.functions as F\n\n\nimport numpy as np\nimport pandas as pd\nimport json\nimport pyspark.sql\nfrom pyspark.sql.functions import col, skewness, kurtosis\nfrom pyspark.sql.functions import isnan, when, count, col\nfrom pyspark.sql.functions import when\nfrom pyspark.sql.functions import UserDefinedFunction\nfrom pyspark.sql.types import StringType\nfrom datetime import date, timedelta, datetime\nimport time\n\nsc = SparkContext.getOrCreate(SparkConf().setMaster(\"local[*]\"))\nfrom pyspark.sql import SparkSession\nspark = SparkSession \\\n    .builder \\\n    .getOrCreate()"
        },
        {
            "cell_type": "markdown",
            "metadata": {},
            "source": "Hidden cell with credentials for accessing from Cloud Object Storage"
        },
        {
            "cell_type": "code",
            "execution_count": 2,
            "metadata": {},
            "outputs": [],
            "source": "# The code was removed by Watson Studio for sharing."
        },
        {
            "cell_type": "code",
            "execution_count": 3,
            "metadata": {},
            "outputs": [],
            "source": "#cos = ibmos2spark.CloudObjectStorage(sc, credentials, configuration_name, 'bluemix_cos')\n#ratings_df = spark.read.parquet(cos.url('ratingsdataframe.parquet', <BUCKET NAME>))\n\nratings_df.createOrReplaceTempView(\"ratings\")"
        },
        {
            "cell_type": "code",
            "execution_count": 4,
            "metadata": {},
            "outputs": [
                {
                    "name": "stdout",
                    "output_type": "stream",
                    "text": "+-------+---------------------------+\n|Ratings|Number_of_Movies_per_rating|\n+-------+---------------------------+\n|      1|                      56174|\n|      2|                     107557|\n|      3|                     261197|\n|      4|                     348971|\n|      5|                     226310|\n+-------+---------------------------+\n\n"
                }
            ],
            "source": "result = spark.sql(\"\"\"\n            Select rating as Ratings,COUNT(rating) as Number_of_Movies_per_rating\n            FROM ratings \n            GROUP BY rating\n            ORDER BY rating ASC\n            \"\"\").repartition(1)\n\nresult.show()\n"
        },
        {
            "cell_type": "code",
            "execution_count": 5,
            "metadata": {},
            "outputs": [
                {
                    "data": {
                        "text/html": "<a download=\"movies_per_rating.csv\" href=\"data:text/csv;base64,UmF0aW5ncyxOdW1iZXJfb2ZfTW92aWVzX3Blcl9yYXRpbmcKMSw1NjE3NAoyLDEwNzU1NwozLDI2MTE5Nwo0LDM0ODk3MQo1LDIyNjMxMAo=\" target=\"_blank\">Download CSV file</a>",
                        "text/plain": "<IPython.core.display.HTML object>"
                    },
                    "execution_count": 5,
                    "metadata": {},
                    "output_type": "execute_result"
                }
            ],
            "source": "## To save it locally\nfrom IPython.display import HTML \nimport base64\n\n# function that takes in a dataframe and creates a text link to  \n# download it (will only work for files < 2MB or so)\ndef create_download_link(df, title = \"Download CSV file\", filename = \"result.csv\"):  \n    csv = df.to_csv(sep=',',header=True, index=False)\n    b64 = base64.b64encode(csv.encode())\n    payload = b64.decode()\n    html = '<a download=\"{filename}\" href=\"data:text/csv;base64,{payload}\" target=\"_blank\">{title}</a>'\n    html = html.format(payload=payload,title=title,filename=filename)\n    return HTML(html)\n\n\n# sparkDF to Pandas\nresult_df = result.toPandas()\ncreate_download_link(result_df,filename='movies_per_rating.csv')"
        }
    ],
    "metadata": {
        "kernelspec": {
            "display_name": "Python 3.7 with Spark",
            "language": "python3",
            "name": "python37"
        },
        "language_info": {
            "codemirror_mode": {
                "name": "ipython",
                "version": 3
            },
            "file_extension": ".py",
            "mimetype": "text/x-python",
            "name": "python",
            "nbconvert_exporter": "python",
            "pygments_lexer": "ipython3",
            "version": "3.7.9"
        }
    },
    "nbformat": 4,
    "nbformat_minor": 1
}