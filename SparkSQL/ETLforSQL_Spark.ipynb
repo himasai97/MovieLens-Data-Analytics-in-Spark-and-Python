{
    "cells": [
        {
            "cell_type": "code",
            "execution_count": 1,
            "metadata": {},
            "outputs": [
                {
                    "name": "stdout",
                    "output_type": "stream",
                    "text": "Waiting for a Spark session to start...\nSpark Initialization Done! ApplicationId = app-20210210211421-0000\nKERNEL_ID = 8f0338a9-dc91-4cab-9963-b666ae82b8f5\n"
                }
            ],
            "source": "from pyspark import SparkContext, SparkConf\nfrom pyspark.sql import SQLContext, SparkSession\nfrom pyspark.sql.types import StructType, StructField, DoubleType, IntegerType, StringType\n\nfrom ibm_botocore.client import Config\nimport ibm_boto3\nimport os\nfrom pyspark.sql.functions import unix_timestamp, to_date\nimport pyspark.sql.functions as F\n\n\nimport numpy as np\nimport pandas as pd\nimport json\nimport pyspark.sql\nfrom pyspark.sql.functions import col, skewness, kurtosis\nfrom pyspark.sql.functions import isnan, when, count, col\nfrom pyspark.sql.functions import when\nfrom pyspark.sql.functions import UserDefinedFunction\nfrom pyspark.sql.types import StringType\nfrom datetime import date, timedelta, datetime\nimport time\n\nsc = SparkContext.getOrCreate(SparkConf().setMaster(\"local[*]\"))\nfrom pyspark.sql import SparkSession\nspark = SparkSession \\\n    .builder \\\n    .getOrCreate()"
        },
        {
            "cell_type": "code",
            "execution_count": 2,
            "metadata": {},
            "outputs": [],
            "source": "from zipfile import ZipFile\n\ncredentials = {\n    'IAM_SERVICE_ID': 'iam-ServiceId-3c1861d6-5e36-4bd6-9a2c-193573560cbf',\n    'IBM_API_KEY_ID': 'p5ub7Zlafd2TotZeptmWjdN0MbfseCEWl54M7UMVfKtO',\n    'ENDPOINT': 'https://s3-api.us-geo.objectstorage.service.networklayer.com',\n    'IBM_AUTH_ENDPOINT': 'https://iam.cloud.ibm.com/oidc/token',\n    'BUCKET': 'movielensdataanalyticsinsparkandp-donotdelete-pr-7pdjrbcote4rbl',\n    'FILE': ['ratings.dat.zip', 'movies.dat','users.dat']\n}\n\ncos = ibm_boto3.client(service_name='s3',\n    ibm_api_key_id=credentials['IBM_API_KEY_ID'],\n    ibm_service_instance_id=credentials['IAM_SERVICE_ID'],\n    ibm_auth_endpoint=credentials['IBM_AUTH_ENDPOINT'],\n    config=Config(signature_version='oauth'),\n    endpoint_url=credentials['ENDPOINT'])\ncos.download_file(Bucket=credentials['BUCKET'],Key=credentials['FILE'][0],Filename=credentials['FILE'][0])\ncos.download_file(Bucket=credentials['BUCKET'],Key=credentials['FILE'][1],Filename=credentials['FILE'][1])\ncos.download_file(Bucket=credentials['BUCKET'],Key=credentials['FILE'][2],Filename=credentials['FILE'][2])\n\nwith ZipFile(credentials['FILE'][0],'r') as zipObj:\n    zipObj.extractall()"
        },
        {
            "cell_type": "code",
            "execution_count": 5,
            "metadata": {},
            "outputs": [],
            "source": "import ibmos2spark\n\ncredentials2 = {\n    'endpoint': 'https://s3-api.us-geo.objectstorage.service.networklayer.com',\n    'service_id': 'iam-ServiceId-3c1861d6-5e36-4bd6-9a2c-193573560cbf',\n    'iam_service_endpoint': 'https://iam.cloud.ibm.com/oidc/token',\n    'api_key': 'p5ub7Zlafd2TotZeptmWjdN0MbfseCEWl54M7UMVfKtO'\n}\n\nconfiguration_name = 'os_54ba3cbe01c144af917f4e0e63fb0d9c_configs'\ncos2 = ibmos2spark.CloudObjectStorage(sc, credentials2, configuration_name, 'bluemix_cos')\n"
        },
        {
            "cell_type": "code",
            "execution_count": 6,
            "metadata": {},
            "outputs": [],
            "source": "\nspark.read.text(\"movies.dat\").createOrReplaceTempView(\"movies_staging\")\nspark.read.text(\"ratings.dat\").createOrReplaceTempView(\"ratings_staging\")\nspark.read.text(\"users.dat\").createOrReplaceTempView(\"users_staging\")\n\n## Create a database to store the tables\nspark.sql(\"drop database if exists sparkdatalake cascade\")\nspark.sql(\"create database sparkdatalake\");\n\n\n## Make appropriate schemas for them\n## movies\nmovies_df = spark.sql(\"\"\" Select \nsplit(value,'::')[0] as movieid,\nsplit(value,'::')[1] as title,\nsubstring(split(value,'::')[1],length(split(value,'::')[1])-4,4) as year,\nsplit(value,'::')[2] as genre \nfrom movies_staging \"\"\").write.parquet(cos2.url('moviesdataframe.parquet', 'movielensdataanalyticsinsparkandp-donotdelete-pr-7pdjrbcote4rbl'))\n\n## users\nspark.sql(\"\"\" Select\nsplit(value,'::')[0] as userid,\nsplit(value,'::')[1] as gender,\nsplit(value,'::')[2] as age,\nsplit(value,'::')[3] as occupation,\nsplit(value,'::')[4] as zipcode\nfrom users_staging \"\"\").write.parquet(cos2.url('usersdataframe.parquet', 'movielensdataanalyticsinsparkandp-donotdelete-pr-7pdjrbcote4rbl'))\n\n## ratings\nspark.sql(\"\"\" Select\nsplit(value,'::')[0] as userid,\nsplit(value,'::')[1] as movieid,\nsplit(value,'::')[2] as rating,\nsplit(value,'::')[3] as timestamp\nfrom ratings_staging \"\"\").write.parquet(cos2.url('ratingsdataframe.parquet', 'movielensdataanalyticsinsparkandp-donotdelete-pr-7pdjrbcote4rbl'))\n"
        },
        {
            "cell_type": "code",
            "execution_count": 9,
            "metadata": {},
            "outputs": [
                {
                    "data": {
                        "text/plain": "[Row(movieid='1', title='Toy Story (1995)', year='1995', genre=\"Animation|Children's|Comedy\"),\n Row(movieid='2', title='Jumanji (1995)', year='1995', genre=\"Adventure|Children's|Fantasy\"),\n Row(movieid='3', title='Grumpier Old Men (1995)', year='1995', genre='Comedy|Romance'),\n Row(movieid='4', title='Waiting to Exhale (1995)', year='1995', genre='Comedy|Drama')]"
                    },
                    "execution_count": 9,
                    "metadata": {},
                    "output_type": "execute_result"
                }
            ],
            "source": "dfreadback = spark.read.parquet(cos.url('moviesdataframe.parquet', 'movielensdataanalyticsinsparkandp-donotdelete-pr-7pdjrbcote4rbl'))\ndfreadback.take(4)"
        }
    ],
    "metadata": {
        "kernelspec": {
            "display_name": "Python 3.7 with Spark",
            "language": "python3",
            "name": "python37"
        },
        "language_info": {
            "codemirror_mode": {
                "name": "ipython",
                "version": 3
            },
            "file_extension": ".py",
            "mimetype": "text/x-python",
            "name": "python",
            "nbconvert_exporter": "python",
            "pygments_lexer": "ipython3",
            "version": "3.7.9"
        }
    },
    "nbformat": 4,
    "nbformat_minor": 1
}