{
    "cells": [
        {
            "cell_type": "code",
            "execution_count": 1,
            "metadata": {},
            "outputs": [],
            "source": "# The code was removed by Watson Studio for sharing."
        },
        {
            "cell_type": "code",
            "execution_count": 2,
            "metadata": {},
            "outputs": [],
            "source": "f = open('accessfiles.py', 'wb')\nf.write(streaming_body_1.read())\n\n\nimport accessfiles"
        },
        {
            "cell_type": "code",
            "execution_count": 2,
            "metadata": {},
            "outputs": [
                {
                    "name": "stdout",
                    "output_type": "stream",
                    "text": "Collecting pyspark==2.4.5\n  Downloading pyspark-2.4.5.tar.gz (217.8 MB)\n\u001b[K     |\u2588\u2588\u2588\u2588\u2588\u2588\u2588\u2588\u2588\u2588\u2588\u2588\u2588\u2588\u2588\u2588\u2588\u2588\u2588\u2588\u2588\u2588\u2588\u2588\u2588\u2588\u2588\u2588\u2588\u2588\u2588\u2588| 217.8 MB 12 kB/s s eta 0:00:01|\u2588\u2588\u2588\u2588\u258c                           | 30.5 MB 14.2 MB/s eta 0:00:14               | 68.2 MB 62.2 MB/s eta 0:00:03\ufffd\u2588\u258e | 206.1 MB 60.6 MB/s eta 0:00:01\n\u001b[?25hCollecting py4j==0.10.7\n  Downloading py4j-0.10.7-py2.py3-none-any.whl (197 kB)\n\u001b[K     |\u2588\u2588\u2588\u2588\u2588\u2588\u2588\u2588\u2588\u2588\u2588\u2588\u2588\u2588\u2588\u2588\u2588\u2588\u2588\u2588\u2588\u2588\u2588\u2588\u2588\u2588\u2588\u2588\u2588\u2588\u2588\u2588| 197 kB 55.6 MB/s eta 0:00:01\n\u001b[?25hBuilding wheels for collected packages: pyspark\n  Building wheel for pyspark (setup.py) ... \u001b[?25ldone\n\u001b[?25h  Created wheel for pyspark: filename=pyspark-2.4.5-py2.py3-none-any.whl size=218257927 sha256=f1d6b4cd439e24b63f4d1d2972bfc1a0c4070cc6c9b78df1349fc2cf10eb591a\n  Stored in directory: /tmp/wsuser/.cache/pip/wheels/01/c0/03/1c241c9c482b647d4d99412a98a5c7f87472728ad41ae55e1e\nSuccessfully built pyspark\nInstalling collected packages: py4j, pyspark\nSuccessfully installed py4j-0.10.7 pyspark-2.4.5\n"
                }
            ],
            "source": "!pip install pyspark==2.4.5"
        },
        {
            "cell_type": "code",
            "execution_count": 4,
            "metadata": {},
            "outputs": [],
            "source": "from zipfile import ZipFile\nimport time\nimport numpy as np\nfrom operator import add\n\nfrom pyspark import SparkContext, SparkConf\nfrom pyspark.sql import SQLContext, SparkSession\nfrom pyspark.sql.types import StructType, StructField, DoubleType, IntegerType, StringType\n\nimport os\nfrom pyspark.sql.functions import unix_timestamp, to_date\nimport pyspark.sql.functions as F\n\nsc = SparkContext.getOrCreate(SparkConf().setMaster(\"local[*]\"))\n\nspark = SparkSession \\\n    .builder \\\n    .getOrCreate()\n\nspark.conf.set(\"spark.sql.repl.eagerEval.enabled\", True)\n\nfrom accessfiles import load_files\n\nload_files()"
        },
        {
            "cell_type": "code",
            "execution_count": 14,
            "metadata": {},
            "outputs": [],
            "source": "movies_rdd=sc.textFile(\"movies.dat\")\ngenre=movies_rdd.map(lambda row:row.split(\"::\")[2])\nflat_genre=genre.flatMap(lambda row: row.split(\"|\"))\ngenre_ctvec=flat_genre.map(lambda genre:(genre,1))\ngenre_count=genre_ctvec.reduceByKey(lambda x,y:x+y)\ngenre_sort= genre_count.sortByKey()\ngenre_sort_df = genre_sort.toDF().toPandas()\ngenre_sort_df.columns = ['Genre','No. of movies']\n"
        },
        {
            "cell_type": "code",
            "execution_count": 15,
            "metadata": {},
            "outputs": [
                {
                    "data": {
                        "text/html": "<a download=\"submission2.csv\" href=\"data:text/csv;base64,R2VucmUsTm8uIG9mIG1vdmllcwpBY3Rpb24sNTAzCkFkdmVudHVyZSwyODMKQW5pbWF0aW9uLDEwNQpDaGlsZHJlbidzLDI1MQpDb21lZHksMTIwMApDcmltZSwyMTEKRG9jdW1lbnRhcnksMTI3CkRyYW1hLDE2MDMKRmFudGFzeSw2OApGaWxtLU5vaXIsNDQKSG9ycm9yLDM0MwpNdXNpY2FsLDExNApNeXN0ZXJ5LDEwNgpSb21hbmNlLDQ3MQpTY2ktRmksMjc2ClRocmlsbGVyLDQ5MgpXYXIsMTQzCldlc3Rlcm4sNjgK\" target=\"_blank\">Download CSV file</a>",
                        "text/plain": "<IPython.core.display.HTML object>"
                    },
                    "execution_count": 15,
                    "metadata": {},
                    "output_type": "execute_result"
                }
            ],
            "source": "from accessfiles import create_download_link\ncreate_download_link(genre_sort_df, filename='Movies_by_genre.csv')"
        }
    ],
    "metadata": {
        "kernelspec": {
            "display_name": "Python 3.7",
            "language": "python",
            "name": "python3"
        },
        "language_info": {
            "codemirror_mode": {
                "name": "ipython",
                "version": 3
            },
            "file_extension": ".py",
            "mimetype": "text/x-python",
            "name": "python",
            "nbconvert_exporter": "python",
            "pygments_lexer": "ipython3",
            "version": "3.7.9"
        }
    },
    "nbformat": 4,
    "nbformat_minor": 1
}