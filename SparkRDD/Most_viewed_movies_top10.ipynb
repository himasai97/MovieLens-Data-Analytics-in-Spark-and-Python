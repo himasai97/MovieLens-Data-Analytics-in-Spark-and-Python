{
    "cells": [
        {
            "cell_type": "code",
            "execution_count": 1,
            "metadata": {},
            "outputs": [],
            "source": "# The code was removed by Watson Studio for sharing."
        },
        {
            "cell_type": "code",
            "execution_count": 2,
            "metadata": {},
            "outputs": [],
            "source": "#For accessing files\nf = open('accessfiles.py', 'wb')\nf.write(streaming_body_1.read())\n\nimport accessfiles"
        },
        {
            "cell_type": "code",
            "execution_count": 1,
            "metadata": {},
            "outputs": [
                {
                    "name": "stdout",
                    "output_type": "stream",
                    "text": "Requirement already satisfied: pyspark==2.4.5 in /opt/conda/envs/Python-3.7-main/lib/python3.7/site-packages (2.4.5)\r\nRequirement already satisfied: py4j==0.10.7 in /opt/conda/envs/Python-3.7-main/lib/python3.7/site-packages (from pyspark==2.4.5) (0.10.7)\r\n"
                }
            ],
            "source": "!pip install pyspark==2.4.5\n"
        },
        {
            "cell_type": "code",
            "execution_count": 2,
            "metadata": {},
            "outputs": [],
            "source": "from zipfile import ZipFile\nimport time\nimport numpy as np\nfrom operator import add\n\nfrom pyspark import SparkContext, SparkConf\nfrom pyspark.sql import SQLContext, SparkSession\nfrom pyspark.sql.types import StructType, StructField, DoubleType, IntegerType, StringType\n\nimport os\nfrom pyspark.sql.functions import unix_timestamp, to_date\nimport pyspark.sql.functions as F\n\nsc = SparkContext.getOrCreate(SparkConf().setMaster(\"local[*]\"))\n\nspark = SparkSession \\\n    .builder \\\n    .getOrCreate()\n\nspark.conf.set(\"spark.sql.repl.eagerEval.enabled\", True)\n\nfrom accessfiles import load_files\n\nload_files()"
        },
        {
            "cell_type": "code",
            "execution_count": 3,
            "metadata": {},
            "outputs": [
                {
                    "name": "stdout",
                    "output_type": "stream",
                    "text": "[(2858, 3428), (260, 2991), (1196, 2990), (1210, 2883), (480, 2672), (2028, 2653), (589, 2649), (2571, 2590), (1270, 2583), (593, 2578)]\n"
                }
            ],
            "source": "\nratingsRDD=sc.textFile(\"ratings.dat\")\nmovies=ratingsRDD.map(lambda line:int(line.split(\"::\")[1]))\nmovies_pair=movies.map(lambda mv:(mv,1))\nmovies_count=movies_pair.reduceByKey(add)\nmovies_sorted=movies_count.sortBy(lambda x: x[1], False, 1)         \nmv_top10List=movies_sorted.take(10)\nmv_top10RDD=sc.parallelize(mv_top10List)\n\nmv_names=sc.textFile(\"movies.dat\").map(lambda line:(int(line.split(\"::\")[0]),line.split(\"::\")[1]))\nprint(mv_top10RDD.collect())\n\njoin_out=mv_names.join(mv_top10RDD)\ntop10_rdd = join_out.sortBy(lambda x: x[1][1],False).map(lambda x: (x[0],x[1][0],x[1][1])).repartition(1)\ntop10_df = top10_rdd.toDF().toPandas()\ntop10_df.columns=['Movie_ID','Name','Views']"
        },
        {
            "cell_type": "code",
            "execution_count": 4,
            "metadata": {},
            "outputs": [
                {
                    "data": {
                        "text/html": "<a download=\"Most_viwed_top10movies.csv\" href=\"data:text/csv;base64,TW92aWVfSUQsTmFtZSxWaWV3cwoyODU4LEFtZXJpY2FuIEJlYXV0eSAoMTk5OSksMzQyOAoyNjAsU3RhciBXYXJzOiBFcGlzb2RlIElWIC0gQSBOZXcgSG9wZSAoMTk3NyksMjk5MQoxMTk2LFN0YXIgV2FyczogRXBpc29kZSBWIC0gVGhlIEVtcGlyZSBTdHJpa2VzIEJhY2sgKDE5ODApLDI5OTAKMTIxMCxTdGFyIFdhcnM6IEVwaXNvZGUgVkkgLSBSZXR1cm4gb2YgdGhlIEplZGkgKDE5ODMpLDI4ODMKNDgwLEp1cmFzc2ljIFBhcmsgKDE5OTMpLDI2NzIKMjAyOCxTYXZpbmcgUHJpdmF0ZSBSeWFuICgxOTk4KSwyNjUzCjU4OSxUZXJtaW5hdG9yIDI6IEp1ZGdtZW50IERheSAoMTk5MSksMjY0OQoyNTcxLCJNYXRyaXgsIFRoZSAoMTk5OSkiLDI1OTAKMTI3MCxCYWNrIHRvIHRoZSBGdXR1cmUgKDE5ODUpLDI1ODMKNTkzLCJTaWxlbmNlIG9mIHRoZSBMYW1icywgVGhlICgxOTkxKSIsMjU3OAo=\" target=\"_blank\">Download CSV file</a>",
                        "text/plain": "<IPython.core.display.HTML object>"
                    },
                    "execution_count": 4,
                    "metadata": {},
                    "output_type": "execute_result"
                }
            ],
            "source": "from accessfiles import create_download_link\ncreate_download_link(top10_df, filename='Most_viewed_top10movies.csv')"
        }
    ],
    "metadata": {
        "kernelspec": {
            "display_name": "Python 3.7",
            "language": "python",
            "name": "python3"
        },
        "language_info": {
            "codemirror_mode": {
                "name": "ipython",
                "version": 3
            },
            "file_extension": ".py",
            "mimetype": "text/x-python",
            "name": "python",
            "nbconvert_exporter": "python",
            "pygments_lexer": "ipython3",
            "version": "3.7.9"
        }
    },
    "nbformat": 4,
    "nbformat_minor": 1
}