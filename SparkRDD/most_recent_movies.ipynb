{
    "cells": [
        {
            "cell_type": "code",
            "execution_count": 1,
            "metadata": {},
            "outputs": [],
            "source": "# The code was removed by Watson Studio for sharing."
        },
        {
            "cell_type": "code",
            "execution_count": 2,
            "metadata": {},
            "outputs": [],
            "source": "f = open('accessfiles.py', 'wb')\nf.write(streaming_body_1.read())\n\n\nimport accessfiles"
        },
        {
            "cell_type": "code",
            "execution_count": 1,
            "metadata": {},
            "outputs": [
                {
                    "name": "stdout",
                    "output_type": "stream",
                    "text": "Collecting pyspark==2.4.5\n  Downloading pyspark-2.4.5.tar.gz (217.8 MB)\n\u001b[K     |\u2588\u2588\u2588\u2588\u2588\u2588\u2588\u2588\u2588\u2588\u2588\u2588\u2588\u2588\u2588\u2588\u2588\u2588\u2588\u2588\u2588\u2588\u2588\u2588\u2588\u2588\u2588\u2588\u2588\u2588\u2588\u2588| 217.8 MB 10.2 MB/s eta 0:00:01            | 3.6 MB 8.8 MB/s eta 0:00:257.5 MB/s eta 0:00:07\u2588\u2588\u2588\u2588\u2588\u2588\u2588\u2588\u2588\u258f| 211.9 MB 10.3 MB/s eta 0:00:01\n\u001b[?25hCollecting py4j==0.10.7\n  Downloading py4j-0.10.7-py2.py3-none-any.whl (197 kB)\n\u001b[K     |\u2588\u2588\u2588\u2588\u2588\u2588\u2588\u2588\u2588\u2588\u2588\u2588\u2588\u2588\u2588\u2588\u2588\u2588\u2588\u2588\u2588\u2588\u2588\u2588\u2588\u2588\u2588\u2588\u2588\u2588\u2588\u2588| 197 kB 55.2 MB/s eta 0:00:01\n\u001b[?25hBuilding wheels for collected packages: pyspark\n  Building wheel for pyspark (setup.py) ... \u001b[?25ldone\n\u001b[?25h  Created wheel for pyspark: filename=pyspark-2.4.5-py2.py3-none-any.whl size=218257927 sha256=93bffddfd0e252d9a68bbee8e9bd336aa6bfb67316298639117fe0cf7d02c446\n  Stored in directory: /tmp/wsuser/.cache/pip/wheels/01/c0/03/1c241c9c482b647d4d99412a98a5c7f87472728ad41ae55e1e\nSuccessfully built pyspark\nInstalling collected packages: py4j, pyspark\nSuccessfully installed py4j-0.10.7 pyspark-2.4.5\n"
                }
            ],
            "source": "!pip install pyspark==2.4.5"
        },
        {
            "cell_type": "code",
            "execution_count": 3,
            "metadata": {},
            "outputs": [],
            "source": "from zipfile import ZipFile\nimport time\nimport numpy as np\nfrom operator import add\n\nfrom pyspark import SparkContext, SparkConf\nfrom pyspark.sql import SQLContext, SparkSession\nfrom pyspark.sql.types import StructType, StructField, DoubleType, IntegerType, StringType\n\nimport os\nfrom pyspark.sql.functions import unix_timestamp, to_date\nimport pyspark.sql.functions as F\n\nsc = SparkContext.getOrCreate(SparkConf().setMaster(\"local[*]\"))\n\nspark = SparkSession \\\n    .builder \\\n    .getOrCreate()\n\nspark.conf.set(\"spark.sql.repl.eagerEval.enabled\", True)\n\nfrom accessfiles import load_files\n\nload_files()"
        },
        {
            "cell_type": "code",
            "execution_count": 40,
            "metadata": {},
            "outputs": [],
            "source": "from pyspark.sql import Row\n\nmovies_rdd=sc.textFile(\"movies.dat\")\nmovie_nm=movies_rdd.map(lambda row:row.split(\"::\")[1])\n## get the year in the parenthesis\nyear=movie_nm.map(lambda row:row.split('(')[1].split(')')[0]).filter(lambda x: x.isdigit())\nlatest=year.max()\nchk_str = \"(\"+latest+\")\"\nlatest_mv_rdd=movie_nm.filter(lambda name: chk_str in name)\nrow = Row(\"Movies\") # Column name\nlatest_mv_df = latest_mv_rdd.map(row).toDF().toPandas()"
        },
        {
            "cell_type": "code",
            "execution_count": 41,
            "metadata": {},
            "outputs": [
                {
                    "data": {
                        "text/html": "<a download=\"submission2.csv\" href=\"data:text/csv;base64,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\" target=\"_blank\">Download CSV file</a>",
                        "text/plain": "<IPython.core.display.HTML object>"
                    },
                    "execution_count": 41,
                    "metadata": {},
                    "output_type": "execute_result"
                }
            ],
            "source": "from accessfiles import create_download_link\ncreate_download_link(latest_mv_df, filename='Latest_movies.csv')"
        }
    ],
    "metadata": {
        "kernelspec": {
            "display_name": "Python 3.7",
            "language": "python",
            "name": "python3"
        },
        "language_info": {
            "codemirror_mode": {
                "name": "ipython",
                "version": 3
            },
            "file_extension": ".py",
            "mimetype": "text/x-python",
            "name": "python",
            "nbconvert_exporter": "python",
            "pygments_lexer": "ipython3",
            "version": "3.7.9"
        }
    },
    "nbformat": 4,
    "nbformat_minor": 1
}